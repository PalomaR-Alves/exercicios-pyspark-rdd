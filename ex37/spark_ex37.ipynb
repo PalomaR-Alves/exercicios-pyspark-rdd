{
 "cells": [
  {
   "cell_type": "code",
   "execution_count": 1,
   "id": "e1c395da-7edc-4c62-a1f5-d19587305e7e",
   "metadata": {},
   "outputs": [
    {
     "name": "stderr",
     "output_type": "stream",
     "text": [
      "25/01/10 09:50:45 WARN Utils: Your hostname, paloma-VirtualBox resolves to a loopback address: 127.0.1.1; using 10.0.2.15 instead (on interface enp0s3)\n",
      "25/01/10 09:50:45 WARN Utils: Set SPARK_LOCAL_IP if you need to bind to another address\n",
      "Setting default log level to \"WARN\".\n",
      "To adjust logging level use sc.setLogLevel(newLevel). For SparkR, use setLogLevel(newLevel).\n",
      "25/01/10 09:50:47 WARN NativeCodeLoader: Unable to load native-hadoop library for your platform... using builtin-java classes where applicable\n"
     ]
    }
   ],
   "source": [
    "import pyspark\n",
    "from pyspark import SparkConf, SparkContext\n",
    "from pyspark.sql import SparkSession\n",
    "conf = SparkConf().setMaster(\"local[1]\").setAppName(\"ex37\")\n",
    "sc = SparkContext(conf=conf)\n",
    "spark = SparkSession.builder.appName(\"ex37\").getOrCreate()"
   ]
  },
  {
   "cell_type": "code",
   "execution_count": 3,
   "id": "1c450410-3044-4e0a-bd8c-a36d7f3d6ba8",
   "metadata": {},
   "outputs": [
    {
     "name": "stdout",
     "output_type": "stream",
     "text": [
      "+--------+----------+----+\n",
      "|sensorId|      date|PM10|\n",
      "+--------+----------+----+\n",
      "|      s1|2016-01-01|20.5|\n",
      "|      s2|2016-01-01|30.1|\n",
      "|      s1|2016-01-02|60.2|\n",
      "|      s2|2016-01-02|20.4|\n",
      "|      s1|2016-01-03|55.5|\n",
      "|      s2|2016-01-03|52.5|\n",
      "+--------+----------+----+\n",
      "\n"
     ]
    }
   ],
   "source": [
    "schema = \"sensorId STRING, date STRING, PM10 FLOAT\"\n",
    "data = spark.read.csv(\"/home/paloma/Downloads/jupyter_spark/ex37/input.csv\", header=False, schema=schema)\n",
    "data.show()"
   ]
  },
  {
   "cell_type": "code",
   "execution_count": 4,
   "id": "3b04d53e-2517-4c38-a1c1-a65ab16d3415",
   "metadata": {},
   "outputs": [
    {
     "data": {
      "text/plain": [
       "[Row(sensorId='s1', date='2016-01-01', PM10=20.5),\n",
       " Row(sensorId='s2', date='2016-01-01', PM10=30.100000381469727),\n",
       " Row(sensorId='s1', date='2016-01-02', PM10=60.20000076293945),\n",
       " Row(sensorId='s2', date='2016-01-02', PM10=20.399999618530273),\n",
       " Row(sensorId='s1', date='2016-01-03', PM10=55.5),\n",
       " Row(sensorId='s2', date='2016-01-03', PM10=52.5)]"
      ]
     },
     "execution_count": 4,
     "metadata": {},
     "output_type": "execute_result"
    }
   ],
   "source": [
    "data = data.rdd # transforma em rdd\n",
    "data.collect()"
   ]
  },
  {
   "cell_type": "code",
   "execution_count": 18,
   "id": "babec8cb-5f9f-47c8-868e-4422998f1038",
   "metadata": {},
   "outputs": [],
   "source": [
    "# dividindo o rdd pra cada sensor\n",
    "s1 = data.filter(lambda line: line.sensorId == 's1')\n",
    "s2 = data.filter(lambda line: line.sensorId == 's2')"
   ]
  },
  {
   "cell_type": "code",
   "execution_count": 19,
   "id": "885cb5b8-be8a-4d9d-b2a8-ef6440c9ea57",
   "metadata": {},
   "outputs": [
    {
     "data": {
      "text/plain": [
       "[Row(sensorId='s1', date='2016-01-01', PM10=20.5),\n",
       " Row(sensorId='s1', date='2016-01-02', PM10=60.20000076293945),\n",
       " Row(sensorId='s1', date='2016-01-03', PM10=55.5)]"
      ]
     },
     "execution_count": 19,
     "metadata": {},
     "output_type": "execute_result"
    }
   ],
   "source": [
    "s1.collect()"
   ]
  },
  {
   "cell_type": "code",
   "execution_count": 20,
   "id": "58190f77-26fe-4876-b85b-b035a0ffcdde",
   "metadata": {},
   "outputs": [
    {
     "data": {
      "text/plain": [
       "[Row(sensorId='s2', date='2016-01-01', PM10=30.100000381469727),\n",
       " Row(sensorId='s2', date='2016-01-02', PM10=20.399999618530273),\n",
       " Row(sensorId='s2', date='2016-01-03', PM10=52.5)]"
      ]
     },
     "execution_count": 20,
     "metadata": {},
     "output_type": "execute_result"
    }
   ],
   "source": [
    "s2.collect()"
   ]
  },
  {
   "cell_type": "code",
   "execution_count": 21,
   "id": "eacdeee4-224f-470a-904e-ab204a9f6ae5",
   "metadata": {},
   "outputs": [],
   "source": [
    "# arredondando valores\n",
    "s1 = s1.map(lambda line: (line.sensorId, round(line.PM10, 1)))\n",
    "s2 = s2.map(lambda line: (line.sensorId, round(line.PM10, 1)))"
   ]
  },
  {
   "cell_type": "code",
   "execution_count": 22,
   "id": "38281a06-d42d-40d7-9fdb-b039b2fd3c9d",
   "metadata": {},
   "outputs": [
    {
     "data": {
      "text/plain": [
       "[('s1', 20.5), ('s1', 60.2), ('s1', 55.5)]"
      ]
     },
     "execution_count": 22,
     "metadata": {},
     "output_type": "execute_result"
    }
   ],
   "source": [
    "s1.collect()"
   ]
  },
  {
   "cell_type": "code",
   "execution_count": 23,
   "id": "4b149a21-46a4-4ec8-b451-95a209b9da5d",
   "metadata": {},
   "outputs": [
    {
     "data": {
      "text/plain": [
       "[('s2', 30.1), ('s2', 20.4), ('s2', 52.5)]"
      ]
     },
     "execution_count": 23,
     "metadata": {},
     "output_type": "execute_result"
    }
   ],
   "source": [
    "s2.collect()"
   ]
  },
  {
   "cell_type": "code",
   "execution_count": 24,
   "id": "c4a4d6c5-40cb-4035-8776-2f1ccd915ab8",
   "metadata": {},
   "outputs": [],
   "source": [
    "s1_max = s1.map(lambda line: line[1]).max()\n",
    "s2_max = s2.map(lambda line: line[1]).max()"
   ]
  },
  {
   "cell_type": "code",
   "execution_count": 25,
   "id": "894d0d7f-73bc-4236-9702-00a9a1349a67",
   "metadata": {},
   "outputs": [
    {
     "name": "stdout",
     "output_type": "stream",
     "text": [
      "60.2\n"
     ]
    }
   ],
   "source": [
    "print(s1_max)"
   ]
  },
  {
   "cell_type": "code",
   "execution_count": 26,
   "id": "fdd938b9-150d-4d9c-aa25-4ac78c024a18",
   "metadata": {},
   "outputs": [
    {
     "name": "stdout",
     "output_type": "stream",
     "text": [
      "52.5\n"
     ]
    }
   ],
   "source": [
    "print(s2_max)"
   ]
  },
  {
   "cell_type": "code",
   "execution_count": 36,
   "id": "c89093d3-4ffe-445e-bf08-0017efbef74d",
   "metadata": {},
   "outputs": [],
   "source": [
    "# obtendo valores filtrados do s1 e unindo com s2\n",
    "sensors_max = s1.filter(lambda line: line[1] == s1_max).union(s2.filter(lambda line: line[1] == s2_max))"
   ]
  },
  {
   "cell_type": "code",
   "execution_count": 37,
   "id": "75893fdb-84ae-46fa-8f15-70c32aedf4ce",
   "metadata": {},
   "outputs": [
    {
     "data": {
      "text/plain": [
       "[('s1', 60.2), ('s2', 52.5)]"
      ]
     },
     "execution_count": 37,
     "metadata": {},
     "output_type": "execute_result"
    }
   ],
   "source": [
    "sensors_max.collect()"
   ]
  },
  {
   "cell_type": "code",
   "execution_count": null,
   "id": "aea5de98-ca4e-4aac-9c18-18f873cd00f8",
   "metadata": {},
   "outputs": [],
   "source": []
  }
 ],
 "metadata": {
  "kernelspec": {
   "display_name": "Python 3 (ipykernel)",
   "language": "python",
   "name": "python3"
  },
  "language_info": {
   "codemirror_mode": {
    "name": "ipython",
    "version": 3
   },
   "file_extension": ".py",
   "mimetype": "text/x-python",
   "name": "python",
   "nbconvert_exporter": "python",
   "pygments_lexer": "ipython3",
   "version": "3.12.3"
  }
 },
 "nbformat": 4,
 "nbformat_minor": 5
}
