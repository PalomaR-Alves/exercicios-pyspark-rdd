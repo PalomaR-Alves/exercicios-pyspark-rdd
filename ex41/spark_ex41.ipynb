{
 "cells": [
  {
   "cell_type": "code",
   "execution_count": 1,
   "id": "96bd3447-2884-4c15-9175-999ac15190e5",
   "metadata": {},
   "outputs": [
    {
     "name": "stderr",
     "output_type": "stream",
     "text": [
      "25/01/10 12:59:54 WARN Utils: Your hostname, paloma-VirtualBox resolves to a loopback address: 127.0.1.1; using 10.0.2.15 instead (on interface enp0s3)\n",
      "25/01/10 12:59:54 WARN Utils: Set SPARK_LOCAL_IP if you need to bind to another address\n",
      "Setting default log level to \"WARN\".\n",
      "To adjust logging level use sc.setLogLevel(newLevel). For SparkR, use setLogLevel(newLevel).\n",
      "25/01/10 12:59:55 WARN NativeCodeLoader: Unable to load native-hadoop library for your platform... using builtin-java classes where applicable\n",
      "25/01/10 12:59:56 WARN Utils: Service 'SparkUI' could not bind on port 4040. Attempting port 4041.\n",
      "25/01/10 12:59:56 WARN Utils: Service 'SparkUI' could not bind on port 4041. Attempting port 4042.\n",
      "25/01/10 12:59:56 WARN Utils: Service 'SparkUI' could not bind on port 4042. Attempting port 4043.\n",
      "25/01/10 12:59:56 WARN Utils: Service 'SparkUI' could not bind on port 4043. Attempting port 4044.\n",
      "25/01/10 12:59:56 WARN Utils: Service 'SparkUI' could not bind on port 4044. Attempting port 4045.\n",
      "25/01/10 12:59:56 WARN Utils: Service 'SparkUI' could not bind on port 4045. Attempting port 4046.\n"
     ]
    }
   ],
   "source": [
    "import pyspark\n",
    "from pyspark import SparkConf, SparkContext\n",
    "from pyspark.sql import SparkSession\n",
    "conf = SparkConf().setMaster(\"local[1]\").setAppName(\"ex40\")\n",
    "sc = SparkContext(conf=conf)\n",
    "spark = SparkSession.builder.appName(\"ex40\").getOrCreate()"
   ]
  },
  {
   "cell_type": "code",
   "execution_count": 2,
   "id": "e69da426-43a7-4ffd-9c02-77cea66a49f1",
   "metadata": {},
   "outputs": [
    {
     "name": "stderr",
     "output_type": "stream",
     "text": [
      "                                                                                "
     ]
    },
    {
     "name": "stdout",
     "output_type": "stream",
     "text": [
      "+--------+----------+----+\n",
      "|sensorId|      date|PM10|\n",
      "+--------+----------+----+\n",
      "|      s1|2016-01-01|20.5|\n",
      "|      s2|2016-01-01|30.1|\n",
      "|      s1|2016-01-02|60.2|\n",
      "|      s2|2016-01-02|20.4|\n",
      "|      s1|2016-01-03|55.5|\n",
      "|      s2|2016-01-03|52.5|\n",
      "|      s3|2016-01-03|12.5|\n",
      "+--------+----------+----+\n",
      "\n"
     ]
    }
   ],
   "source": [
    "schema = \"sensorId STRING, date STRING, PM10 FLOAT\"\n",
    "data = spark.read.csv(\"/home/paloma/Downloads/jupyter_spark/ex41/input.csv\", header=False, schema=schema)\n",
    "data.show()"
   ]
  },
  {
   "cell_type": "code",
   "execution_count": 4,
   "id": "eeec3140-9198-45e6-a062-fc452014d4fb",
   "metadata": {},
   "outputs": [
    {
     "name": "stderr",
     "output_type": "stream",
     "text": [
      "                                                                                "
     ]
    },
    {
     "data": {
      "text/plain": [
       "[('s1', 1), ('s1', 1), ('s2', 1)]"
      ]
     },
     "execution_count": 4,
     "metadata": {},
     "output_type": "execute_result"
    }
   ],
   "source": [
    "data = data.rdd # transforma em rdd\n",
    "gt_fifty = data.filter(lambda line: line.PM10 > 50)\n",
    "gt_fifty = gt_fifty.map(lambda line: (line.sensorId, 1))\n",
    "gt_fifty.collect()"
   ]
  },
  {
   "cell_type": "code",
   "execution_count": 5,
   "id": "d179a510-e81a-4fb2-bb3e-da73bb8db929",
   "metadata": {},
   "outputs": [
    {
     "name": "stdout",
     "output_type": "stream",
     "text": [
      "defaultdict(<class 'int'>, {'s1': 2, 's2': 1})\n"
     ]
    }
   ],
   "source": [
    "counts = gt_fifty.countByKey()\n",
    "# countByKey retorna um dicionario em que cada key sera o id e o valor sera a qtd de ocorrencias\n",
    "print(counts)"
   ]
  },
  {
   "cell_type": "code",
   "execution_count": 9,
   "id": "31ad1e54-bfa5-4ad6-aa8c-9d70f5ef3dd5",
   "metadata": {},
   "outputs": [
    {
     "name": "stdout",
     "output_type": "stream",
     "text": [
      "[('s1', 2), ('s2', 1)]\n"
     ]
    }
   ],
   "source": [
    "days = sorted(list(counts.items()), key=lambda tuple: tuple[1], reverse=True)\n",
    "# pega todos os items (chave, valor) e transforma em lista, ordena pelo segundo elemento da tupla em desc\n",
    "print(days)"
   ]
  },
  {
   "cell_type": "code",
   "execution_count": null,
   "id": "c9a9d123-3f7a-40a0-958f-cb3190a4b126",
   "metadata": {},
   "outputs": [],
   "source": []
  }
 ],
 "metadata": {
  "kernelspec": {
   "display_name": "Python 3 (ipykernel)",
   "language": "python",
   "name": "python3"
  },
  "language_info": {
   "codemirror_mode": {
    "name": "ipython",
    "version": 3
   },
   "file_extension": ".py",
   "mimetype": "text/x-python",
   "name": "python",
   "nbconvert_exporter": "python",
   "pygments_lexer": "ipython3",
   "version": "3.12.3"
  }
 },
 "nbformat": 4,
 "nbformat_minor": 5
}
