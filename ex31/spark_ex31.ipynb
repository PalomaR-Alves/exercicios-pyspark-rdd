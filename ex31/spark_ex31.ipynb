{
 "cells": [
  {
   "cell_type": "code",
   "execution_count": 1,
   "id": "3e205e7b-2dc9-482c-b9a8-a05a2fe609af",
   "metadata": {},
   "outputs": [
    {
     "name": "stderr",
     "output_type": "stream",
     "text": [
      "25/01/09 12:13:50 WARN Utils: Your hostname, paloma-VirtualBox resolves to a loopback address: 127.0.1.1; using 10.0.2.15 instead (on interface enp0s3)\n",
      "25/01/09 12:13:50 WARN Utils: Set SPARK_LOCAL_IP if you need to bind to another address\n",
      "Setting default log level to \"WARN\".\n",
      "To adjust logging level use sc.setLogLevel(newLevel). For SparkR, use setLogLevel(newLevel).\n",
      "25/01/09 12:13:51 WARN NativeCodeLoader: Unable to load native-hadoop library for your platform... using builtin-java classes where applicable\n"
     ]
    }
   ],
   "source": [
    "import pyspark\n",
    "from pyspark import SparkConf, SparkContext\n",
    "from pyspark.sql import SparkSession\n",
    "conf = SparkConf().setMaster(\"local[1]\").setAppName(\"ex31\")\n",
    "sc = SparkContext(conf=conf)\n",
    "spark = SparkSession.builder.appName(\"ex31\").getOrCreate()"
   ]
  },
  {
   "cell_type": "code",
   "execution_count": 2,
   "id": "7f10ac9d-d89b-4a76-a168-9b2336854b4b",
   "metadata": {},
   "outputs": [],
   "source": [
    "# le o arquivo txt e cria dataframe com uma unica coluna, a \"value\"\n",
    "data = spark.read.text(\"/home/paloma/jupyter_spark/ex31/requests_ex31.txt\")"
   ]
  },
  {
   "cell_type": "code",
   "execution_count": 3,
   "id": "bed2e8f2-679d-4dd3-91da-ff9830e81ad5",
   "metadata": {},
   "outputs": [
    {
     "name": "stderr",
     "output_type": "stream",
     "text": [
      "                                                                                "
     ]
    },
    {
     "data": {
      "text/plain": [
       "[Row(value='66.249.69.97 --[24/Sep/2014:22:25:44  +0000]  \"GET http://www.google.com/bot.html”'),\n",
       " Row(value='66.249.69.97 --[24/Sep/2014:22:26:44  +0000]  \"GET  http://www.google.com/how.html”'),\n",
       " Row(value='66.249.69.97 --[24/Sep/2014:22:28:44 +0000] \"GET http://dbdmg.polito.it/course.html”'),\n",
       " Row(value='71.19.157.179 --[24/Sep/2014:22:30:12  +0000]  \"GET http://www.google.com/faq.html”'),\n",
       " Row(value='66.249.69.95 --[24/Sep/2014:31:28:44 +0000] \"GET http://dbdmg.polito.it/thesis.html”'),\n",
       " Row(value='66.249.69.97 --[24/Sep/2014:56:26:44  +0000]  \"GET http://www.google.com/how.html”'),\n",
       " Row(value='56.249.69.97 --[24/Sep/2014:56:26:44  +0000]  \"GET http://www.google.com/how.html”')]"
      ]
     },
     "execution_count": 3,
     "metadata": {},
     "output_type": "execute_result"
    }
   ],
   "source": [
    "data_ips = data.rdd\n",
    "data_ips.collect()\n",
    "# aqui cada linha = objeto Row"
   ]
  },
  {
   "cell_type": "code",
   "execution_count": 4,
   "id": "1afd4c00-7350-442f-9ebb-372d5e9e0370",
   "metadata": {},
   "outputs": [
    {
     "name": "stderr",
     "output_type": "stream",
     "text": [
      "                                                                                "
     ]
    },
    {
     "data": {
      "text/plain": [
       "['66.249.69.97 --[24/Sep/2014:22:25:44  +0000]  \"GET http://www.google.com/bot.html”',\n",
       " '66.249.69.97 --[24/Sep/2014:22:26:44  +0000]  \"GET  http://www.google.com/how.html”',\n",
       " '66.249.69.97 --[24/Sep/2014:22:28:44 +0000] \"GET http://dbdmg.polito.it/course.html”',\n",
       " '71.19.157.179 --[24/Sep/2014:22:30:12  +0000]  \"GET http://www.google.com/faq.html”',\n",
       " '66.249.69.95 --[24/Sep/2014:31:28:44 +0000] \"GET http://dbdmg.polito.it/thesis.html”',\n",
       " '66.249.69.97 --[24/Sep/2014:56:26:44  +0000]  \"GET http://www.google.com/how.html”',\n",
       " '56.249.69.97 --[24/Sep/2014:56:26:44  +0000]  \"GET http://www.google.com/how.html”']"
      ]
     },
     "execution_count": 4,
     "metadata": {},
     "output_type": "execute_result"
    }
   ],
   "source": [
    "data_ips = data_ips.map(lambda line: line.value) # obtem a string em value\n",
    "data_ips.collect() # agora temos uma lista de strings e nao ded objetos Row"
   ]
  },
  {
   "cell_type": "code",
   "execution_count": 5,
   "id": "cd1fe755-ad4e-49c4-b2c8-42e52ee05556",
   "metadata": {},
   "outputs": [
    {
     "data": {
      "text/plain": [
       "['66.249.69.97 --[24/Sep/2014:22:25:44  +0000]  \"GET http://www.google.com/bot.html”',\n",
       " '66.249.69.97 --[24/Sep/2014:22:26:44  +0000]  \"GET  http://www.google.com/how.html”',\n",
       " '71.19.157.179 --[24/Sep/2014:22:30:12  +0000]  \"GET http://www.google.com/faq.html”',\n",
       " '66.249.69.97 --[24/Sep/2014:56:26:44  +0000]  \"GET http://www.google.com/how.html”',\n",
       " '56.249.69.97 --[24/Sep/2014:56:26:44  +0000]  \"GET http://www.google.com/how.html”']"
      ]
     },
     "execution_count": 5,
     "metadata": {},
     "output_type": "execute_result"
    }
   ],
   "source": [
    "# filtrando ips que possuem requisicao a google\n",
    "data_ips_filtered = data_ips.filter(lambda word: 'google' in word)\n",
    "data_ips_filtered.collect()"
   ]
  },
  {
   "cell_type": "code",
   "execution_count": 13,
   "id": "2455fd26-7eed-4471-8184-e607a4989a59",
   "metadata": {},
   "outputs": [
    {
     "data": {
      "text/plain": [
       "['66.249.69.97 ',\n",
       " '66.249.69.97 ',\n",
       " '71.19.157.179',\n",
       " '66.249.69.97 ',\n",
       " '56.249.69.97 ']"
      ]
     },
     "execution_count": 13,
     "metadata": {},
     "output_type": "execute_result"
    }
   ],
   "source": [
    "# map para recortar as strings, so parte com os ips\n",
    "data_ips_unique = data_ips_filtered.map(lambda word: word[:13])\n",
    "# outra forma de fazer seria separando as strings usando espacos, essa separacao quebra a string\n",
    "# da mesma linha em varias e guarda numa lista, cada elemento da lista sera uma string, em seguida\n",
    "# a cada iteracao do map eh obtido o primeiro elemento dessa lista, que eh o ip. Dessa forma evitamos\n",
    "# pegar os espacos em branco que restam na forma usada acima.\n",
    "# data_ips_unique = data_ips_filtered.map(lambda line: str.split(line, ' ')[0])\n",
    "data_ips_unique.collect()"
   ]
  },
  {
   "cell_type": "code",
   "execution_count": 15,
   "id": "656462a6-5877-48a9-a262-32cb2a9b7283",
   "metadata": {},
   "outputs": [
    {
     "data": {
      "text/plain": [
       "['66.249.69.97', '71.19.157.179', '56.249.69.97']"
      ]
     },
     "execution_count": 15,
     "metadata": {},
     "output_type": "execute_result"
    }
   ],
   "source": [
    "# removendo espacos em branco\n",
    "data_ips_unique = data_ips_unique.map(lambda line: line.strip())\n",
    "# pegando ips distintos\n",
    "data_ips_unique = data_ips_unique.distinct()\n",
    "data_ips_unique.collect()"
   ]
  },
  {
   "cell_type": "code",
   "execution_count": 17,
   "id": "adb77aff-bfa5-4b64-bf60-3e1fcf1bd7df",
   "metadata": {},
   "outputs": [
    {
     "name": "stderr",
     "output_type": "stream",
     "text": [
      "                                                                                "
     ]
    }
   ],
   "source": [
    "output_path = \"/home/paloma/jupyter_spark/ex31/output\"\n",
    "data_ips_unique.coalesce(1).saveAsTextFile(output_path)\n",
    "spark.stop()"
   ]
  },
  {
   "cell_type": "code",
   "execution_count": null,
   "id": "967a7187-f17e-4b5e-8743-37d954409d35",
   "metadata": {},
   "outputs": [],
   "source": []
  }
 ],
 "metadata": {
  "kernelspec": {
   "display_name": "Python 3 (ipykernel)",
   "language": "python",
   "name": "python3"
  },
  "language_info": {
   "codemirror_mode": {
    "name": "ipython",
    "version": 3
   },
   "file_extension": ".py",
   "mimetype": "text/x-python",
   "name": "python",
   "nbconvert_exporter": "python",
   "pygments_lexer": "ipython3",
   "version": "3.12.3"
  }
 },
 "nbformat": 4,
 "nbformat_minor": 5
}
