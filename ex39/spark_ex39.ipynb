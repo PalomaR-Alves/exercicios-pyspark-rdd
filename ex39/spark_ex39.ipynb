{
 "cells": [
  {
   "cell_type": "code",
   "execution_count": 1,
   "id": "896b1931-fc21-40de-9467-9989d4f2dbfb",
   "metadata": {},
   "outputs": [
    {
     "name": "stderr",
     "output_type": "stream",
     "text": [
      "25/01/10 11:51:40 WARN Utils: Your hostname, paloma-VirtualBox resolves to a loopback address: 127.0.1.1; using 10.0.2.15 instead (on interface enp0s3)\n",
      "25/01/10 11:51:40 WARN Utils: Set SPARK_LOCAL_IP if you need to bind to another address\n",
      "Setting default log level to \"WARN\".\n",
      "To adjust logging level use sc.setLogLevel(newLevel). For SparkR, use setLogLevel(newLevel).\n",
      "25/01/10 11:51:41 WARN NativeCodeLoader: Unable to load native-hadoop library for your platform... using builtin-java classes where applicable\n",
      "25/01/10 11:51:42 WARN Utils: Service 'SparkUI' could not bind on port 4040. Attempting port 4041.\n",
      "25/01/10 11:51:42 WARN Utils: Service 'SparkUI' could not bind on port 4041. Attempting port 4042.\n"
     ]
    }
   ],
   "source": [
    "import pyspark\n",
    "from pyspark import SparkConf, SparkContext\n",
    "from pyspark.sql import SparkSession\n",
    "conf = SparkConf().setMaster(\"local[1]\").setAppName(\"ex39\")\n",
    "sc = SparkContext(conf=conf)\n",
    "spark = SparkSession.builder.appName(\"ex39\").getOrCreate()"
   ]
  },
  {
   "cell_type": "code",
   "execution_count": 2,
   "id": "f3c02247-2a47-4baa-9234-c02001261483",
   "metadata": {},
   "outputs": [
    {
     "name": "stderr",
     "output_type": "stream",
     "text": [
      "                                                                                "
     ]
    },
    {
     "name": "stdout",
     "output_type": "stream",
     "text": [
      "+--------+----------+----+\n",
      "|sensorId|      date|PM10|\n",
      "+--------+----------+----+\n",
      "|      s1|2016-01-01|20.5|\n",
      "|      s2|2016-01-01|30.1|\n",
      "|      s1|2016-01-02|60.2|\n",
      "|      s2|2016-01-02|20.4|\n",
      "|      s1|2016-01-03|55.5|\n",
      "|      s2|2016-01-03|52.5|\n",
      "|      s3|2016-01-03|12.5|\n",
      "+--------+----------+----+\n",
      "\n"
     ]
    }
   ],
   "source": [
    "schema = \"sensorId STRING, date STRING, PM10 FLOAT\"\n",
    "data = spark.read.csv(\"/home/paloma/Downloads/jupyter_spark/ex39/input.csv\", header=False, schema=schema)\n",
    "data.show()"
   ]
  },
  {
   "cell_type": "code",
   "execution_count": 3,
   "id": "c0ddb8ff-f4ac-4339-93cb-261eac9f9f56",
   "metadata": {},
   "outputs": [
    {
     "data": {
      "text/plain": [
       "[Row(sensorId='s1', date='2016-01-01', PM10=20.5),\n",
       " Row(sensorId='s2', date='2016-01-01', PM10=30.100000381469727),\n",
       " Row(sensorId='s1', date='2016-01-02', PM10=60.20000076293945),\n",
       " Row(sensorId='s2', date='2016-01-02', PM10=20.399999618530273),\n",
       " Row(sensorId='s1', date='2016-01-03', PM10=55.5),\n",
       " Row(sensorId='s2', date='2016-01-03', PM10=52.5),\n",
       " Row(sensorId='s3', date='2016-01-03', PM10=12.5)]"
      ]
     },
     "execution_count": 3,
     "metadata": {},
     "output_type": "execute_result"
    }
   ],
   "source": [
    "data = data.rdd # transforma em rdd\n",
    "data.collect()"
   ]
  },
  {
   "cell_type": "code",
   "execution_count": 4,
   "id": "0647db59-8016-4daf-abea-b79b327aeef5",
   "metadata": {},
   "outputs": [
    {
     "name": "stderr",
     "output_type": "stream",
     "text": [
      "                                                                                "
     ]
    },
    {
     "data": {
      "text/plain": [
       "[('s1', '2016-01-02'), ('s1', '2016-01-03'), ('s2', '2016-01-03')]"
      ]
     },
     "execution_count": 4,
     "metadata": {},
     "output_type": "execute_result"
    }
   ],
   "source": [
    "gt_fifty = data.filter(lambda line: line.PM10 > 50)\n",
    "gt_fifty = gt_fifty.map(lambda line: (line.sensorId, line.date))\n",
    "gt_fifty.collect()"
   ]
  },
  {
   "cell_type": "code",
   "execution_count": 7,
   "id": "3dca8114-a491-41bd-a1bd-91eb0a355889",
   "metadata": {},
   "outputs": [
    {
     "data": {
      "text/plain": [
       "[('s1', <pyspark.resultiterable.ResultIterable at 0x706734de9bb0>),\n",
       " ('s2', <pyspark.resultiterable.ResultIterable at 0x706734de9b50>)]"
      ]
     },
     "execution_count": 7,
     "metadata": {},
     "output_type": "execute_result"
    }
   ],
   "source": [
    "dates = gt_fifty.groupByKey()\n",
    "# groupByKey vai agrupar as datas pela key (no caso o id) e vai resultar numa lista com tuplas compostas\n",
    "# por (id, colecao iteravel), tipo assim ('s1', <pyspark.resultiterable.ResultIterable at 0x706734de9bb0>)\n",
    "dates.collect()"
   ]
  },
  {
   "cell_type": "code",
   "execution_count": 8,
   "id": "25132090-e313-4cde-81d0-277c840a1c51",
   "metadata": {},
   "outputs": [
    {
     "data": {
      "text/plain": [
       "[('s1', ['2016-01-02', '2016-01-03']), ('s2', ['2016-01-03'])]"
      ]
     },
     "execution_count": 8,
     "metadata": {},
     "output_type": "execute_result"
    }
   ],
   "source": [
    "dates = dates.mapValues(lambda lines: list(set(lines)))\n",
    "# o mapValues para cada chave de cada tupla vai converter o iteravel para um set,\n",
    "# removendo duplicatas e depois para lista\n",
    "dates.collect()"
   ]
  }
 ],
 "metadata": {
  "kernelspec": {
   "display_name": "Python 3 (ipykernel)",
   "language": "python",
   "name": "python3"
  },
  "language_info": {
   "codemirror_mode": {
    "name": "ipython",
    "version": 3
   },
   "file_extension": ".py",
   "mimetype": "text/x-python",
   "name": "python",
   "nbconvert_exporter": "python",
   "pygments_lexer": "ipython3",
   "version": "3.12.3"
  }
 },
 "nbformat": 4,
 "nbformat_minor": 5
}
