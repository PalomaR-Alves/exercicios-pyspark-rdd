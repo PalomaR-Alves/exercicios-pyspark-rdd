{
 "cells": [
  {
   "cell_type": "code",
   "execution_count": 1,
   "id": "2d9cbfce-78b7-454c-9235-ee9b6d4edf91",
   "metadata": {},
   "outputs": [
    {
     "name": "stderr",
     "output_type": "stream",
     "text": [
      "25/01/10 12:47:21 WARN Utils: Your hostname, paloma-VirtualBox resolves to a loopback address: 127.0.1.1; using 10.0.2.15 instead (on interface enp0s3)\n",
      "25/01/10 12:47:21 WARN Utils: Set SPARK_LOCAL_IP if you need to bind to another address\n",
      "Setting default log level to \"WARN\".\n",
      "To adjust logging level use sc.setLogLevel(newLevel). For SparkR, use setLogLevel(newLevel).\n",
      "25/01/10 12:47:22 WARN NativeCodeLoader: Unable to load native-hadoop library for your platform... using builtin-java classes where applicable\n",
      "25/01/10 12:47:24 WARN Utils: Service 'SparkUI' could not bind on port 4040. Attempting port 4041.\n",
      "25/01/10 12:47:24 WARN Utils: Service 'SparkUI' could not bind on port 4041. Attempting port 4042.\n"
     ]
    }
   ],
   "source": [
    "import pyspark\n",
    "from pyspark import SparkConf, SparkContext\n",
    "from pyspark.sql import SparkSession\n",
    "conf = SparkConf().setMaster(\"local[1]\").setAppName(\"ex40\")\n",
    "sc = SparkContext(conf=conf)\n",
    "spark = SparkSession.builder.appName(\"ex40\").getOrCreate()"
   ]
  },
  {
   "cell_type": "code",
   "execution_count": 2,
   "id": "043bb453-f8b9-4529-9e18-97a38db32c33",
   "metadata": {},
   "outputs": [
    {
     "name": "stderr",
     "output_type": "stream",
     "text": [
      "                                                                                "
     ]
    },
    {
     "name": "stdout",
     "output_type": "stream",
     "text": [
      "+--------+----------+----+\n",
      "|sensorId|      date|PM10|\n",
      "+--------+----------+----+\n",
      "|      s1|2016-01-01|20.5|\n",
      "|      s2|2016-01-01|30.1|\n",
      "|      s1|2016-01-02|60.2|\n",
      "|      s2|2016-01-02|20.4|\n",
      "|      s1|2016-01-03|55.5|\n",
      "|      s2|2016-01-03|52.5|\n",
      "|      s3|2016-01-03|12.5|\n",
      "+--------+----------+----+\n",
      "\n"
     ]
    }
   ],
   "source": [
    "schema = \"sensorId STRING, date STRING, PM10 FLOAT\"\n",
    "data = spark.read.csv(\"/home/paloma/Downloads/jupyter_spark/ex40/input.csv\", header=False, schema=schema)\n",
    "data.show()"
   ]
  },
  {
   "cell_type": "code",
   "execution_count": 5,
   "id": "b4b7895b-3164-41c2-b7a6-45b1660c2d2b",
   "metadata": {},
   "outputs": [
    {
     "data": {
      "text/plain": [
       "[Row(sensorId='s1', date='2016-01-01', PM10=20.5),\n",
       " Row(sensorId='s2', date='2016-01-01', PM10=30.100000381469727),\n",
       " Row(sensorId='s1', date='2016-01-02', PM10=60.20000076293945),\n",
       " Row(sensorId='s2', date='2016-01-02', PM10=20.399999618530273),\n",
       " Row(sensorId='s1', date='2016-01-03', PM10=55.5),\n",
       " Row(sensorId='s2', date='2016-01-03', PM10=52.5),\n",
       " Row(sensorId='s3', date='2016-01-03', PM10=12.5)]"
      ]
     },
     "execution_count": 5,
     "metadata": {},
     "output_type": "execute_result"
    }
   ],
   "source": [
    "data = data.rdd # transforma em rdd\n",
    "data.collect()"
   ]
  },
  {
   "cell_type": "code",
   "execution_count": 7,
   "id": "11deeaa5-b498-404a-8864-b2d74557a596",
   "metadata": {},
   "outputs": [
    {
     "data": {
      "text/plain": [
       "[('s1', 1), ('s1', 1), ('s2', 1)]"
      ]
     },
     "execution_count": 7,
     "metadata": {},
     "output_type": "execute_result"
    }
   ],
   "source": [
    "gt_fifty = data.filter(lambda line: line.PM10 > 50)\n",
    "gt_fifty = gt_fifty.map(lambda line: (line.sensorId, 1))\n",
    "gt_fifty.collect()"
   ]
  },
  {
   "cell_type": "code",
   "execution_count": 12,
   "id": "6ae9015f-a8e2-4821-925a-1dd82af705c3",
   "metadata": {},
   "outputs": [
    {
     "name": "stdout",
     "output_type": "stream",
     "text": [
      "defaultdict(<class 'int'>, {'s1': 2, 's2': 1})\n"
     ]
    }
   ],
   "source": [
    "counts = gt_fifty.countByKey()\n",
    "# countByKey retorna um dicionario em que cada key sera o id e o valor sera a qtd de ocorrencias\n",
    "print(counts)"
   ]
  },
  {
   "cell_type": "code",
   "execution_count": 13,
   "id": "dda6f075-d48c-45fe-a400-2882db296c35",
   "metadata": {},
   "outputs": [
    {
     "name": "stdout",
     "output_type": "stream",
     "text": [
      "[('s1', 2), ('s2', 1)]\n"
     ]
    }
   ],
   "source": [
    "days = list(counts.items())\n",
    "# pega todos os items (chave, valor) e transforma em lista\n",
    "print(days)"
   ]
  },
  {
   "cell_type": "code",
   "execution_count": 14,
   "id": "5a4e5ed5-586f-44f8-b0ed-c0d27e0bd9f5",
   "metadata": {},
   "outputs": [
    {
     "name": "stdout",
     "output_type": "stream",
     "text": [
      "[(2, 's1'), (1, 's2')]\n"
     ]
    }
   ],
   "source": [
    "# invertendo a ordem das tuplas para os dias virem primeiro\n",
    "days = [(d, i) for i, d in days] # list comprehension\n",
    "print(days)"
   ]
  }
 ],
 "metadata": {
  "kernelspec": {
   "display_name": "Python 3 (ipykernel)",
   "language": "python",
   "name": "python3"
  },
  "language_info": {
   "codemirror_mode": {
    "name": "ipython",
    "version": 3
   },
   "file_extension": ".py",
   "mimetype": "text/x-python",
   "name": "python",
   "nbconvert_exporter": "python",
   "pygments_lexer": "ipython3",
   "version": "3.12.3"
  }
 },
 "nbformat": 4,
 "nbformat_minor": 5
}
