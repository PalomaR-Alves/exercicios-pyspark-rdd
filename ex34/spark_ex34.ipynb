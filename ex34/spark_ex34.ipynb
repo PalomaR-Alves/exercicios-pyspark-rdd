{
 "cells": [
  {
   "cell_type": "code",
   "execution_count": 1,
   "id": "f19600f9-6b5c-4dac-8cc4-def9be722aef",
   "metadata": {},
   "outputs": [
    {
     "name": "stderr",
     "output_type": "stream",
     "text": [
      "25/01/09 15:45:28 WARN Utils: Your hostname, paloma-VirtualBox resolves to a loopback address: 127.0.1.1; using 10.0.2.15 instead (on interface enp0s3)\n",
      "25/01/09 15:45:28 WARN Utils: Set SPARK_LOCAL_IP if you need to bind to another address\n",
      "Setting default log level to \"WARN\".\n",
      "To adjust logging level use sc.setLogLevel(newLevel). For SparkR, use setLogLevel(newLevel).\n",
      "25/01/09 15:45:30 WARN NativeCodeLoader: Unable to load native-hadoop library for your platform... using builtin-java classes where applicable\n"
     ]
    }
   ],
   "source": [
    "import pyspark\n",
    "from pyspark import SparkConf, SparkContext\n",
    "from pyspark.sql import SparkSession\n",
    "conf = SparkConf().setMaster(\"local[1]\").setAppName(\"ex34\")\n",
    "sc = SparkContext(conf=conf)\n",
    "spark = SparkSession.builder.appName(\"ex34\").getOrCreate()"
   ]
  },
  {
   "cell_type": "code",
   "execution_count": 28,
   "id": "01eababb-3aae-470b-96cd-b150c59f92fc",
   "metadata": {},
   "outputs": [
    {
     "name": "stdout",
     "output_type": "stream",
     "text": [
      "+--------+----------+----+\n",
      "|sensorId|      date|PM10|\n",
      "+--------+----------+----+\n",
      "|      s1|2016-01-01|20.5|\n",
      "|      s2|2016-01-01|30.1|\n",
      "|      s1|2016-01-02|60.2|\n",
      "|      s2|2016-01-02|20.4|\n",
      "|      s1|2016-01-03|55.5|\n",
      "|      s2|2016-01-03|52.5|\n",
      "+--------+----------+----+\n",
      "\n"
     ]
    }
   ],
   "source": [
    "schema = \"sensorId STRING, date STRING, PM10 FLOAT\"\n",
    "data = spark.read.csv(\"/home/paloma/Downloads/jupyter_spark/ex34/input.csv\", header=False, schema=schema)\n",
    "data.show()"
   ]
  },
  {
   "cell_type": "code",
   "execution_count": 30,
   "id": "2e895f9a-1231-4017-981c-1c8390a3f0df",
   "metadata": {},
   "outputs": [
    {
     "name": "stderr",
     "output_type": "stream",
     "text": [
      "                                                                                "
     ]
    },
    {
     "data": {
      "text/plain": [
       "[('s1', '2016-01-01', 20.5),\n",
       " ('s2', '2016-01-01', 30.1),\n",
       " ('s1', '2016-01-02', 60.2),\n",
       " ('s2', '2016-01-02', 20.4),\n",
       " ('s1', '2016-01-03', 55.5),\n",
       " ('s2', '2016-01-03', 52.5)]"
      ]
     },
     "execution_count": 30,
     "metadata": {},
     "output_type": "execute_result"
    }
   ],
   "source": [
    "data = data.rdd\n",
    "# deixando a coluna de float com 1 casa decimal\n",
    "pm_rounded = data.map(lambda line: (line.sensorId, line.date, round(line.PM10, 1)))\n",
    "pm_rounded.collect()"
   ]
  },
  {
   "cell_type": "code",
   "execution_count": 34,
   "id": "3f739b06-a4a5-462a-b6bc-d201068ed854",
   "metadata": {},
   "outputs": [
    {
     "name": "stdout",
     "output_type": "stream",
     "text": [
      "60.2\n"
     ]
    }
   ],
   "source": [
    "# obtendo valores da terceira coluna (posicao 2 de cada tupla) e ao final o valor maximo\n",
    "# o map vai retornar uma lista com os valores da terceira coluna e o max sera aplicado a ela\n",
    "max_pm = pm_rounded.map(lambda line: line[2]).max()\n",
    "print(max_pm)"
   ]
  },
  {
   "cell_type": "code",
   "execution_count": 33,
   "id": "4c165f7f-bfc0-4354-aef6-eeef09483e61",
   "metadata": {},
   "outputs": [
    {
     "data": {
      "text/plain": [
       "[('s1', '2016-01-02', 60.2), ('s1', '2016-01-03', 60.2)]"
      ]
     },
     "execution_count": 33,
     "metadata": {},
     "output_type": "execute_result"
    }
   ],
   "source": [
    "# obter linhas que possuem o mesmo id da linha que possui o valor max de PM10\n",
    "lines_max = pm_rounded.filter(lambda line: line[2] == max_pm)\n",
    "lines_max.collect()"
   ]
  }
 ],
 "metadata": {
  "kernelspec": {
   "display_name": "Python 3 (ipykernel)",
   "language": "python",
   "name": "python3"
  },
  "language_info": {
   "codemirror_mode": {
    "name": "ipython",
    "version": 3
   },
   "file_extension": ".py",
   "mimetype": "text/x-python",
   "name": "python",
   "nbconvert_exporter": "python",
   "pygments_lexer": "ipython3",
   "version": "3.12.3"
  }
 },
 "nbformat": 4,
 "nbformat_minor": 5
}
