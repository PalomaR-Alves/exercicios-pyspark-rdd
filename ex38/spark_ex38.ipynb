{
 "cells": [
  {
   "cell_type": "code",
   "execution_count": 1,
   "id": "9eb289e6-a9ba-4e69-84db-57c944bfa6a2",
   "metadata": {},
   "outputs": [
    {
     "name": "stderr",
     "output_type": "stream",
     "text": [
      "25/01/10 12:36:50 WARN Utils: Your hostname, paloma-VirtualBox resolves to a loopback address: 127.0.1.1; using 10.0.2.15 instead (on interface enp0s3)\n",
      "25/01/10 12:36:50 WARN Utils: Set SPARK_LOCAL_IP if you need to bind to another address\n",
      "Setting default log level to \"WARN\".\n",
      "To adjust logging level use sc.setLogLevel(newLevel). For SparkR, use setLogLevel(newLevel).\n",
      "25/01/10 12:36:52 WARN NativeCodeLoader: Unable to load native-hadoop library for your platform... using builtin-java classes where applicable\n",
      "25/01/10 12:36:53 WARN Utils: Service 'SparkUI' could not bind on port 4040. Attempting port 4041.\n"
     ]
    }
   ],
   "source": [
    "import pyspark\n",
    "from pyspark import SparkConf, SparkContext\n",
    "from pyspark.sql import SparkSession\n",
    "conf = SparkConf().setMaster(\"local[1]\").setAppName(\"ex38\")\n",
    "sc = SparkContext(conf=conf)\n",
    "spark = SparkSession.builder.appName(\"ex38\").getOrCreate()"
   ]
  },
  {
   "cell_type": "code",
   "execution_count": 2,
   "id": "2153a3eb-56aa-47b8-b94c-009e38eae2e3",
   "metadata": {},
   "outputs": [
    {
     "name": "stdout",
     "output_type": "stream",
     "text": [
      "+--------+----------+----+\n",
      "|sensorId|      date|PM10|\n",
      "+--------+----------+----+\n",
      "|      s1|2016-01-01|20.5|\n",
      "|      s2|2016-01-01|30.1|\n",
      "|      s1|2016-01-02|60.2|\n",
      "|      s2|2016-01-02|20.4|\n",
      "|      s1|2016-01-03|55.5|\n",
      "|      s2|2016-01-03|52.5|\n",
      "+--------+----------+----+\n",
      "\n"
     ]
    }
   ],
   "source": [
    "schema = \"sensorId STRING, date STRING, PM10 FLOAT\"\n",
    "data = spark.read.csv(\"/home/paloma/Downloads/jupyter_spark/ex38/input.csv\", header=False, schema=schema)\n",
    "data.show()"
   ]
  },
  {
   "cell_type": "code",
   "execution_count": 3,
   "id": "86ffe636-4c2e-478d-b2a4-e8a50c4b3cd0",
   "metadata": {},
   "outputs": [
    {
     "data": {
      "text/plain": [
       "[Row(sensorId='s1', date='2016-01-01', PM10=20.5),\n",
       " Row(sensorId='s2', date='2016-01-01', PM10=30.100000381469727),\n",
       " Row(sensorId='s1', date='2016-01-02', PM10=60.20000076293945),\n",
       " Row(sensorId='s2', date='2016-01-02', PM10=20.399999618530273),\n",
       " Row(sensorId='s1', date='2016-01-03', PM10=55.5),\n",
       " Row(sensorId='s2', date='2016-01-03', PM10=52.5)]"
      ]
     },
     "execution_count": 3,
     "metadata": {},
     "output_type": "execute_result"
    }
   ],
   "source": [
    "data = data.rdd # transforma em rdd\n",
    "data.collect()"
   ]
  },
  {
   "cell_type": "code",
   "execution_count": 4,
   "id": "1941efc5-884f-43b1-86c1-e8e3ed75aa07",
   "metadata": {},
   "outputs": [
    {
     "name": "stderr",
     "output_type": "stream",
     "text": [
      "                                                                                "
     ]
    },
    {
     "data": {
      "text/plain": [
       "[('s1', '2016-01-01', 20.5),\n",
       " ('s2', '2016-01-01', 30.1),\n",
       " ('s1', '2016-01-02', 60.2),\n",
       " ('s2', '2016-01-02', 20.4),\n",
       " ('s1', '2016-01-03', 55.5),\n",
       " ('s2', '2016-01-03', 52.5)]"
      ]
     },
     "execution_count": 4,
     "metadata": {},
     "output_type": "execute_result"
    }
   ],
   "source": [
    "thresh = 50\n",
    "data = data.map(lambda line: (line.sensorId, line.date, round(line.PM10, 1))) # tuplas\n",
    "data.collect()"
   ]
  },
  {
   "cell_type": "code",
   "execution_count": 5,
   "id": "4ccbc2e8-7a26-425f-8ebf-606f5d10d929",
   "metadata": {},
   "outputs": [
    {
     "data": {
      "text/plain": [
       "[('s1', '2016-01-02', 60.2),\n",
       " ('s1', '2016-01-03', 55.5),\n",
       " ('s2', '2016-01-03', 52.5)]"
      ]
     },
     "execution_count": 5,
     "metadata": {},
     "output_type": "execute_result"
    }
   ],
   "source": [
    "sensor_thresh = data.filter(lambda line: line[2] > 50)\n",
    "sensor_thresh.collect()"
   ]
  },
  {
   "cell_type": "code",
   "execution_count": 6,
   "id": "c202a56f-1ad3-442a-9e47-60f6c18e77b9",
   "metadata": {},
   "outputs": [
    {
     "data": {
      "text/plain": [
       "[('s1', 1), ('s1', 1), ('s2', 1)]"
      ]
     },
     "execution_count": 6,
     "metadata": {},
     "output_type": "execute_result"
    }
   ],
   "source": [
    "# retorna pares de tuplas com o id do sensor e \"1\", que simboliza uma ocorrencia do id\n",
    "# esses pares funcionarao como pares (chave, valor)\n",
    "counts = sensor_thresh.map(lambda line: (line[0], 1))\n",
    "counts.collect()"
   ]
  },
  {
   "cell_type": "code",
   "execution_count": null,
   "id": "45149abd-9c1d-44c3-ac83-b4d7c352d867",
   "metadata": {},
   "outputs": [],
   "source": [
    "counts = counts.countByKey()\n",
    "counts.collect()"
   ]
  },
  {
   "cell_type": "code",
   "execution_count": null,
   "id": "ef4bef2f-690a-4d09-81fe-61a85ac2d936",
   "metadata": {},
   "outputs": [],
   "source": [
    "counts = counts.filter(lambda line: line[1] >= 2)\n",
    "counts.collect()"
   ]
  }
 ],
 "metadata": {
  "kernelspec": {
   "display_name": "Python 3 (ipykernel)",
   "language": "python",
   "name": "python3"
  },
  "language_info": {
   "codemirror_mode": {
    "name": "ipython",
    "version": 3
   },
   "file_extension": ".py",
   "mimetype": "text/x-python",
   "name": "python",
   "nbconvert_exporter": "python",
   "pygments_lexer": "ipython3",
   "version": "3.12.3"
  }
 },
 "nbformat": 4,
 "nbformat_minor": 5
}
